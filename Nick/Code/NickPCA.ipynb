{
 "cells": [
  {
   "cell_type": "code",
   "execution_count": 71,
   "metadata": {},
   "outputs": [],
   "source": [
    "import os\n",
    "os.chdir(\"/Users/nickl/Documents/College/DATA 481 - Gene Data\")"
   ]
  },
  {
   "cell_type": "code",
   "execution_count": 72,
   "metadata": {},
   "outputs": [],
   "source": [
    "import numpy as np\n",
    "import pandas as pd\n",
    "from sklearn.decomposition import PCA\n",
    "from sklearn.preprocessing import StandardScaler\n",
    "from sklearn.model_selection import train_test_split\n",
    "from sklearn.linear_model import LogisticRegression\n",
    "from sklearn.metrics import accuracy_score\n",
    "from sklearn.model_selection import cross_val_score, StratifiedKFold\n"
   ]
  },
  {
   "cell_type": "code",
   "execution_count": 73,
   "metadata": {},
   "outputs": [
    {
     "data": {
      "text/plain": [
       "(783, 2001)"
      ]
     },
     "execution_count": 73,
     "metadata": {},
     "output_type": "execute_result"
    }
   ],
   "source": [
    "#loading filtered gene expression dataset with 2000 genes\n",
    "df = pd.read_csv(\"filtered_gene_expression.csv\")\n",
    "df.shape"
   ]
  },
  {
   "cell_type": "code",
   "execution_count": 74,
   "metadata": {},
   "outputs": [
    {
     "data": {
      "text/html": [
       "<div>\n",
       "<style scoped>\n",
       "    .dataframe tbody tr th:only-of-type {\n",
       "        vertical-align: middle;\n",
       "    }\n",
       "\n",
       "    .dataframe tbody tr th {\n",
       "        vertical-align: top;\n",
       "    }\n",
       "\n",
       "    .dataframe thead th {\n",
       "        text-align: right;\n",
       "    }\n",
       "</style>\n",
       "<table border=\"1\" class=\"dataframe\">\n",
       "  <thead>\n",
       "    <tr style=\"text-align: right;\">\n",
       "      <th></th>\n",
       "      <th>Unnamed: 0</th>\n",
       "      <th>ENSG00000110484</th>\n",
       "      <th>ENSG00000173467</th>\n",
       "      <th>ENSG00000160180</th>\n",
       "      <th>ENSG00000106541</th>\n",
       "      <th>ENSG00000086548</th>\n",
       "      <th>ENSG00000186081</th>\n",
       "      <th>ENSG00000164128</th>\n",
       "      <th>ENSG00000082175</th>\n",
       "      <th>ENSG00000012223</th>\n",
       "      <th>...</th>\n",
       "      <th>ENSG00000183579</th>\n",
       "      <th>ENSG00000111640</th>\n",
       "      <th>ENSG00000141582</th>\n",
       "      <th>ENSG00000083444</th>\n",
       "      <th>ENSG00000077238</th>\n",
       "      <th>ENSG00000131378</th>\n",
       "      <th>ENSG00000162627</th>\n",
       "      <th>ENSG00000172428</th>\n",
       "      <th>ENSG00000090238</th>\n",
       "      <th>ENSG00000121310</th>\n",
       "    </tr>\n",
       "  </thead>\n",
       "  <tbody>\n",
       "    <tr>\n",
       "      <th>0</th>\n",
       "      <td>TCGA-B6-A0IG-01A-11R-A034-07</td>\n",
       "      <td>16.604568</td>\n",
       "      <td>13.223057</td>\n",
       "      <td>16.503468</td>\n",
       "      <td>16.406028</td>\n",
       "      <td>16.432548</td>\n",
       "      <td>12.923043</td>\n",
       "      <td>6.321402</td>\n",
       "      <td>10.431743</td>\n",
       "      <td>12.610098</td>\n",
       "      <td>...</td>\n",
       "      <td>9.498140</td>\n",
       "      <td>16.407849</td>\n",
       "      <td>11.891926</td>\n",
       "      <td>13.235186</td>\n",
       "      <td>12.394746</td>\n",
       "      <td>9.942146</td>\n",
       "      <td>8.553333</td>\n",
       "      <td>11.502764</td>\n",
       "      <td>10.531759</td>\n",
       "      <td>10.892306</td>\n",
       "    </tr>\n",
       "    <tr>\n",
       "      <th>1</th>\n",
       "      <td>TCGA-BH-A0HQ-01A-11R-A034-07</td>\n",
       "      <td>17.999684</td>\n",
       "      <td>12.796037</td>\n",
       "      <td>15.401028</td>\n",
       "      <td>15.135256</td>\n",
       "      <td>10.963789</td>\n",
       "      <td>13.592751</td>\n",
       "      <td>9.657230</td>\n",
       "      <td>13.523402</td>\n",
       "      <td>13.761161</td>\n",
       "      <td>...</td>\n",
       "      <td>9.069928</td>\n",
       "      <td>15.914698</td>\n",
       "      <td>11.445023</td>\n",
       "      <td>13.502874</td>\n",
       "      <td>12.193215</td>\n",
       "      <td>11.164268</td>\n",
       "      <td>10.274965</td>\n",
       "      <td>10.937427</td>\n",
       "      <td>11.517999</td>\n",
       "      <td>12.172644</td>\n",
       "    </tr>\n",
       "    <tr>\n",
       "      <th>2</th>\n",
       "      <td>TCGA-BH-A18G-01A-11R-A12D-07</td>\n",
       "      <td>11.449702</td>\n",
       "      <td>3.660178</td>\n",
       "      <td>0.000000</td>\n",
       "      <td>5.166983</td>\n",
       "      <td>10.137522</td>\n",
       "      <td>10.144959</td>\n",
       "      <td>14.228891</td>\n",
       "      <td>5.449170</td>\n",
       "      <td>18.585784</td>\n",
       "      <td>...</td>\n",
       "      <td>9.609232</td>\n",
       "      <td>18.279752</td>\n",
       "      <td>10.998696</td>\n",
       "      <td>15.340948</td>\n",
       "      <td>12.148326</td>\n",
       "      <td>10.899602</td>\n",
       "      <td>10.838234</td>\n",
       "      <td>11.463646</td>\n",
       "      <td>12.285856</td>\n",
       "      <td>10.922859</td>\n",
       "    </tr>\n",
       "    <tr>\n",
       "      <th>3</th>\n",
       "      <td>TCGA-A8-A09K-01A-11R-A00Z-07</td>\n",
       "      <td>1.675843</td>\n",
       "      <td>13.126475</td>\n",
       "      <td>10.825054</td>\n",
       "      <td>12.800465</td>\n",
       "      <td>4.375425</td>\n",
       "      <td>7.437230</td>\n",
       "      <td>11.509252</td>\n",
       "      <td>9.890669</td>\n",
       "      <td>9.995210</td>\n",
       "      <td>...</td>\n",
       "      <td>12.416744</td>\n",
       "      <td>15.469124</td>\n",
       "      <td>13.226838</td>\n",
       "      <td>11.836395</td>\n",
       "      <td>9.202800</td>\n",
       "      <td>9.810061</td>\n",
       "      <td>10.297798</td>\n",
       "      <td>11.573526</td>\n",
       "      <td>12.778097</td>\n",
       "      <td>12.220035</td>\n",
       "    </tr>\n",
       "    <tr>\n",
       "      <th>4</th>\n",
       "      <td>TCGA-BH-A0BZ-01A-31R-A12P-07</td>\n",
       "      <td>8.222050</td>\n",
       "      <td>11.830127</td>\n",
       "      <td>12.560654</td>\n",
       "      <td>14.547573</td>\n",
       "      <td>9.016715</td>\n",
       "      <td>11.662777</td>\n",
       "      <td>9.213446</td>\n",
       "      <td>7.501901</td>\n",
       "      <td>7.631275</td>\n",
       "      <td>...</td>\n",
       "      <td>9.499313</td>\n",
       "      <td>16.135190</td>\n",
       "      <td>12.777781</td>\n",
       "      <td>13.686927</td>\n",
       "      <td>12.581818</td>\n",
       "      <td>11.524712</td>\n",
       "      <td>9.752092</td>\n",
       "      <td>10.692426</td>\n",
       "      <td>11.690135</td>\n",
       "      <td>10.532674</td>\n",
       "    </tr>\n",
       "  </tbody>\n",
       "</table>\n",
       "<p>5 rows × 2001 columns</p>\n",
       "</div>"
      ],
      "text/plain": [
       "                     Unnamed: 0  ENSG00000110484  ENSG00000173467  \\\n",
       "0  TCGA-B6-A0IG-01A-11R-A034-07        16.604568        13.223057   \n",
       "1  TCGA-BH-A0HQ-01A-11R-A034-07        17.999684        12.796037   \n",
       "2  TCGA-BH-A18G-01A-11R-A12D-07        11.449702         3.660178   \n",
       "3  TCGA-A8-A09K-01A-11R-A00Z-07         1.675843        13.126475   \n",
       "4  TCGA-BH-A0BZ-01A-31R-A12P-07         8.222050        11.830127   \n",
       "\n",
       "   ENSG00000160180  ENSG00000106541  ENSG00000086548  ENSG00000186081  \\\n",
       "0        16.503468        16.406028        16.432548        12.923043   \n",
       "1        15.401028        15.135256        10.963789        13.592751   \n",
       "2         0.000000         5.166983        10.137522        10.144959   \n",
       "3        10.825054        12.800465         4.375425         7.437230   \n",
       "4        12.560654        14.547573         9.016715        11.662777   \n",
       "\n",
       "   ENSG00000164128  ENSG00000082175  ENSG00000012223  ...  ENSG00000183579  \\\n",
       "0         6.321402        10.431743        12.610098  ...         9.498140   \n",
       "1         9.657230        13.523402        13.761161  ...         9.069928   \n",
       "2        14.228891         5.449170        18.585784  ...         9.609232   \n",
       "3        11.509252         9.890669         9.995210  ...        12.416744   \n",
       "4         9.213446         7.501901         7.631275  ...         9.499313   \n",
       "\n",
       "   ENSG00000111640  ENSG00000141582  ENSG00000083444  ENSG00000077238  \\\n",
       "0        16.407849        11.891926        13.235186        12.394746   \n",
       "1        15.914698        11.445023        13.502874        12.193215   \n",
       "2        18.279752        10.998696        15.340948        12.148326   \n",
       "3        15.469124        13.226838        11.836395         9.202800   \n",
       "4        16.135190        12.777781        13.686927        12.581818   \n",
       "\n",
       "   ENSG00000131378  ENSG00000162627  ENSG00000172428  ENSG00000090238  \\\n",
       "0         9.942146         8.553333        11.502764        10.531759   \n",
       "1        11.164268        10.274965        10.937427        11.517999   \n",
       "2        10.899602        10.838234        11.463646        12.285856   \n",
       "3         9.810061        10.297798        11.573526        12.778097   \n",
       "4        11.524712         9.752092        10.692426        11.690135   \n",
       "\n",
       "   ENSG00000121310  \n",
       "0        10.892306  \n",
       "1        12.172644  \n",
       "2        10.922859  \n",
       "3        12.220035  \n",
       "4        10.532674  \n",
       "\n",
       "[5 rows x 2001 columns]"
      ]
     },
     "execution_count": 74,
     "metadata": {},
     "output_type": "execute_result"
    }
   ],
   "source": [
    "df.head()"
   ]
  },
  {
   "cell_type": "code",
   "execution_count": 75,
   "metadata": {},
   "outputs": [
    {
     "data": {
      "text/plain": [
       "(783, 7)"
      ]
     },
     "execution_count": 75,
     "metadata": {},
     "output_type": "execute_result"
    }
   ],
   "source": [
    "#loading meta dataset\n",
    "metadf = pd.read_csv(\"metadata.csv\")\n",
    "metadf.shape "
   ]
  },
  {
   "cell_type": "code",
   "execution_count": 76,
   "metadata": {},
   "outputs": [
    {
     "data": {
      "text/plain": [
       "(783, 2006)"
      ]
     },
     "execution_count": 76,
     "metadata": {},
     "output_type": "execute_result"
    }
   ],
   "source": [
    "#Prepping df to merge with metadf\n",
    "df.rename(columns={'Unnamed: 0': 'mRNA'}, inplace=True)\n",
    "df = pd.merge(df, metadf, on =  \"mRNA\", how='left')\n",
    "df.set_index(\"mRNA\", inplace=True)\n",
    "df.shape"
   ]
  },
  {
   "cell_type": "code",
   "execution_count": 84,
   "metadata": {},
   "outputs": [
    {
     "data": {
      "text/plain": [
       "(652, 2006)"
      ]
     },
     "execution_count": 84,
     "metadata": {},
     "output_type": "execute_result"
    }
   ],
   "source": [
    "#Dropping the 20 outliers Minji found using PCs 3 and 4\n",
    "NoOutdf =  df.drop(['TCGA-06-0211-01B-01R-1849-01', 'TCGA-06-0211-02A-02R-2005-01',\n",
    "       'TCGA-06-0130-01A-01R-1849-01', 'TCGA-06-0132-01A-02R-1849-01',\n",
    "       'TCGA-16-1045-01B-01R-1850-01', 'TCGA-06-0125-01A-01R-1849-01',\n",
    "       'TCGA-06-0125-02A-11R-2005-01', 'TCGA-06-0139-01A-01R-1849-01',\n",
    "       'TCGA-26-5132-01A-01R-1850-01', 'TCGA-15-1444-01A-02R-1850-01',\n",
    "       'TCGA-32-2616-01A-01R-1850-01', 'TCGA-06-0750-01A-01R-1849-01',\n",
    "       'TCGA-41-2572-01A-01R-1850-01', 'TCGA-06-0138-01A-02R-1849-01',\n",
    "       'TCGA-06-0211-01A-01R-1849-01', 'TCGA-06-0178-01A-01R-1849-01',\n",
    "       'TCGA-28-2499-01A-01R-1850-01', 'TCGA-06-1804-01A-01R-1849-01',\n",
    "       'TCGA-26-1442-01A-01R-1850-01', 'TCGA-28-1747-01C-01R-1850-01'], inplace = False)\n",
    "NoOutdf.shape"
   ]
  },
  {
   "cell_type": "code",
   "execution_count": 85,
   "metadata": {},
   "outputs": [],
   "source": [
    "NoOutdf.to_csv(\"NoOutliers_filtered_gene_expression.csv\")"
   ]
  },
  {
   "cell_type": "code",
   "execution_count": 77,
   "metadata": {},
   "outputs": [],
   "source": [
    "#setting up x and y for PCA\n",
    "df = df.dropna(subset=[\"ER\"])\n",
    "\n",
    "X = df.drop(columns=[\"PAM50\", \"TumorPurity\", \"ProliferationScore\", \"ER\", \"PR\", \"HER2\"]) \n",
    "y = df[\"ER\"] \n"
   ]
  },
  {
   "cell_type": "code",
   "execution_count": 78,
   "metadata": {},
   "outputs": [],
   "source": [
    "#Finding top 50 PCs and splitting into training and test sets\n",
    "pca = PCA(n_components=50, random_state = 42)\n",
    "X_pca = pca.fit_transform(X)\n",
    "\n",
    "X_train, X_test, y_train, y_test = train_test_split(X_pca, y, test_size=0.2, random_state=42)"
   ]
  },
  {
   "cell_type": "code",
   "execution_count": 79,
   "metadata": {},
   "outputs": [
    {
     "name": "stdout",
     "output_type": "stream",
     "text": [
      "Accuracy: 0.9185\n"
     ]
    }
   ],
   "source": [
    "#Setting up model and fitting it\n",
    "log_reg = LogisticRegression(max_iter=1000)\n",
    "log_reg.fit(X_train, y_train)\n",
    "\n",
    "# Predict on test set\n",
    "y_pred = log_reg.predict(X_test)\n",
    "\n",
    "# Evaluate the model\n",
    "accuracy = accuracy_score(y_test, y_pred)\n",
    "print(f\"Accuracy: {accuracy:.4f}\")"
   ]
  },
  {
   "cell_type": "code",
   "execution_count": 80,
   "metadata": {},
   "outputs": [
    {
     "name": "stdout",
     "output_type": "stream",
     "text": [
      "Cross-validation accuracy scores: [0.91111111 0.91111111 0.92537313 0.90298507 0.91044776]\n",
      "Mean accuracy: 0.9122\n"
     ]
    }
   ],
   "source": [
    "#Running Cross Validation on logreg\n",
    "cv = StratifiedKFold(n_splits=5, shuffle=True, random_state=42)\n",
    "cv_scores = cross_val_score(log_reg, X_pca, y, cv=cv, scoring='accuracy')\n",
    "\n",
    "print(f\"Cross-validation accuracy scores: {cv_scores}\")\n",
    "print(f\"Mean accuracy: {cv_scores.mean():.4f}\")\n"
   ]
  },
  {
   "cell_type": "markdown",
   "metadata": {},
   "source": [
    "#PCA + Logistic Regression on Filtered Gene Expression with Outliers Removed"
   ]
  },
  {
   "cell_type": "code",
   "execution_count": 89,
   "metadata": {},
   "outputs": [],
   "source": [
    "#setting up x and y for PCA\n",
    "NoOutdf= NoOutdf.dropna(subset=[\"ER\"])\n",
    "\n",
    "X = NoOutdf.drop(columns=[\"PAM50\", \"TumorPurity\", \"ProliferationScore\", \"ER\", \"PR\", \"HER2\"]) \n",
    "y = NoOutdf[\"ER\"] \n"
   ]
  },
  {
   "cell_type": "code",
   "execution_count": 90,
   "metadata": {},
   "outputs": [],
   "source": [
    "#Finding top 50 PCs and splitting into training and test sets\n",
    "pca = PCA(n_components=50, random_state = 42)\n",
    "X_pca = pca.fit_transform(X)\n",
    "\n",
    "X_train, X_test, y_train, y_test = train_test_split(X_pca, y, test_size=0.2, random_state=42)"
   ]
  },
  {
   "cell_type": "code",
   "execution_count": 91,
   "metadata": {},
   "outputs": [
    {
     "name": "stdout",
     "output_type": "stream",
     "text": [
      "Accuracy: 0.8931\n"
     ]
    }
   ],
   "source": [
    "#Setting up model and fitting it\n",
    "log_reg = LogisticRegression(max_iter=1000)\n",
    "log_reg.fit(X_train, y_train)\n",
    "\n",
    "# Predict on test set\n",
    "y_pred = log_reg.predict(X_test)\n",
    "\n",
    "# Evaluate the model\n",
    "accuracy = accuracy_score(y_test, y_pred)\n",
    "print(f\"Accuracy: {accuracy:.4f}\")"
   ]
  },
  {
   "cell_type": "code",
   "execution_count": 92,
   "metadata": {},
   "outputs": [
    {
     "name": "stdout",
     "output_type": "stream",
     "text": [
      "Cross-validation accuracy scores: [0.93129771 0.8778626  0.9        0.94615385 0.94615385]\n",
      "Mean accuracy: 0.9203\n"
     ]
    }
   ],
   "source": [
    "#Running Cross Validation on logreg\n",
    "cv = StratifiedKFold(n_splits=5, shuffle=True, random_state=42)\n",
    "cv_scores = cross_val_score(log_reg, X_pca, y, cv=cv, scoring='accuracy')\n",
    "\n",
    "print(f\"Cross-validation accuracy scores: {cv_scores}\")\n",
    "print(f\"Mean accuracy: {cv_scores.mean():.4f}\")\n"
   ]
  }
 ],
 "metadata": {
  "kernelspec": {
   "display_name": "base",
   "language": "python",
   "name": "python3"
  },
  "language_info": {
   "codemirror_mode": {
    "name": "ipython",
    "version": 3
   },
   "file_extension": ".py",
   "mimetype": "text/x-python",
   "name": "python",
   "nbconvert_exporter": "python",
   "pygments_lexer": "ipython3",
   "version": "3.11.4"
  }
 },
 "nbformat": 4,
 "nbformat_minor": 2
}
